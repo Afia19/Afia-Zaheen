{
  "cells": [
    {
      "cell_type": "markdown",
      "id": "990c534e-ee5b-4406-ac98-d3357f3bd7ec",
      "metadata": {
        "id": "990c534e-ee5b-4406-ac98-d3357f3bd7ec"
      },
      "source": [
        "# A Taste of Python\n",
        "\n",
        "Computers do two things really well. ***Store values*** and ***perform operations*** on those values\n",
        "\n",
        "You might think they’re doing a whole lot more, as you send texts, shop online, or rely on your phone to navigate in your car; however, everything computers do can be broken down into simple operations that are performed on simple values.\n",
        "\n",
        "Now, part of computational thinking is learning to use these operations and values to build something that is much more sophisticated, complex, and meaningful—and we’re going to get to that.\n",
        "\n",
        "First, though, we’re going to take a look at what these values are, the operations you can perform on them, and just what role variables play in all this.\n",
        "\n",
        "# Store Values\n",
        "\n",
        "### What is a value?\n",
        "\n",
        "Because programs are written to process data, you must have a good understanding of the nature and structure of the data being processed.\n",
        "\n",
        "Data within a program may be a single value, such as a number.  In the cell below try some different numbers, say 123, or 31.7."
      ]
    },
    {
      "cell_type": "code",
      "execution_count": null,
      "id": "a3506a0d-e007-45b1-920f-d499033baf9f",
      "metadata": {
        "colab": {
          "base_uri": "https://localhost:8080/"
        },
        "id": "a3506a0d-e007-45b1-920f-d499033baf9f",
        "outputId": "58711b92-4f6d-4e02-f940-3edfc86c5b86"
      },
      "outputs": [
        {
          "output_type": "stream",
          "name": "stdout",
          "text": [
            "155\n",
            "32.693\n"
          ]
        }
      ],
      "source": [
        "x = 154\n",
        "y = 16.3465\n",
        "\n",
        "x = x + 1\n",
        "print(x)\n",
        "y = y * 2.0\n",
        "print(y)"
      ]
    },
    {
      "cell_type": "markdown",
      "id": "7e26a95d-228d-41e5-8c4e-895765bc23f7",
      "metadata": {
        "id": "7e26a95d-228d-41e5-8c4e-895765bc23f7"
      },
      "source": [
        "Data within a program may be a single value, such as a character.  Are the quotes important? Is 'A' different from 'a'?"
      ]
    },
    {
      "cell_type": "code",
      "execution_count": null,
      "id": "cbd8c919-9732-4f5d-9b82-9209aff137f6",
      "metadata": {
        "colab": {
          "base_uri": "https://localhost:8080/"
        },
        "id": "cbd8c919-9732-4f5d-9b82-9209aff137f6",
        "outputId": "19d4cf69-d38f-4e4a-d323-f483d054c60c"
      },
      "outputs": [
        {
          "output_type": "stream",
          "name": "stdout",
          "text": [
            "A | 97\n",
            "a | 65\n"
          ]
        }
      ],
      "source": [
        "letter1 = 'a'\n",
        "letter2 = 'A'\n",
        "print(\"A | \" + str(ord(letter1)))\n",
        "print(\"a | \" + str(ord(letter2)))\n",
        "\n",
        "#The quotes are important as it marks the start and end of the string"
      ]
    },
    {
      "cell_type": "markdown",
      "id": "d6583eb9-8381-4de7-b70a-3da9bae50b5b",
      "metadata": {
        "id": "d6583eb9-8381-4de7-b70a-3da9bae50b5b"
      },
      "source": [
        "Data within a program may be a single value, such as true or false.  In programming we call the a booloean value, sometimes abbreviated as bool."
      ]
    },
    {
      "cell_type": "code",
      "execution_count": null,
      "id": "e222c1a7-963f-4ab7-8d95-02fead45cc14",
      "metadata": {
        "id": "e222c1a7-963f-4ab7-8d95-02fead45cc14"
      },
      "outputs": [],
      "source": [
        "resume = True\n",
        "resume = False"
      ]
    },
    {
      "cell_type": "markdown",
      "id": "6b5fad28-f83e-4071-8c07-b682f0f8a378",
      "metadata": {
        "id": "6b5fad28-f83e-4071-8c07-b682f0f8a378"
      },
      "source": [
        "Data within a program may be a group items such as a list.  The list could contian the same or different type of values."
      ]
    },
    {
      "cell_type": "code",
      "execution_count": null,
      "id": "45204b84-3142-48dc-bb82-15d07ac5bcb5",
      "metadata": {
        "colab": {
          "base_uri": "https://localhost:8080/"
        },
        "id": "45204b84-3142-48dc-bb82-15d07ac5bcb5",
        "outputId": "eba77d94-dfb9-4894-e53b-bb2da7e361b1"
      },
      "outputs": [
        {
          "output_type": "stream",
          "name": "stdout",
          "text": [
            "Dave\n",
            "Frank\n",
            "Sally\n",
            "10\n",
            "15\n",
            "40\n"
          ]
        }
      ],
      "source": [
        "myList = [\"Dave\",\"Frank\",\"Sally\",10,15,40]\n",
        "for item in myList:\n",
        "  print(item)"
      ]
    },
    {
      "cell_type": "markdown",
      "id": "5f4d9675-4fac-43f3-a786-e2d82ebd3d3c",
      "metadata": {
        "id": "5f4d9675-4fac-43f3-a786-e2d82ebd3d3c"
      },
      "source": [
        "Data within a program may be a group items such as a string."
      ]
    },
    {
      "cell_type": "code",
      "execution_count": null,
      "id": "a04eb2f0-4f59-47ea-9556-3cba1c88ac1c",
      "metadata": {
        "id": "a04eb2f0-4f59-47ea-9556-3cba1c88ac1c"
      },
      "outputs": [],
      "source": [
        "myString = \"This is a string\""
      ]
    },
    {
      "cell_type": "markdown",
      "id": "f00208cc-adc9-4a36-92b4-1d54f08c3d7a",
      "metadata": {
        "id": "f00208cc-adc9-4a36-92b4-1d54f08c3d7a"
      },
      "source": [
        "Is there a way to determine the type of an item is? In Python we have a the *type()* function. In the cell below, find out the type of  3, 3.0, '3', '3.0'  and [3, 3.0,'3', '3.0'].\n",
        "> We are going to use functions a lot, before long you will understand exactly how they work and even know how to create your own, but for now just think of them as a way to *ask* Python to do some work.  In the cell is known as **calling** the *type* function.  Functions have a name followed by left parenthesis, a data item and end with a right parenthesis."
      ]
    },
    {
      "cell_type": "code",
      "execution_count": null,
      "id": "112bf20b-79c2-43cd-9524-ed3fcd5ff9e0",
      "metadata": {
        "colab": {
          "base_uri": "https://localhost:8080/"
        },
        "id": "112bf20b-79c2-43cd-9524-ed3fcd5ff9e0",
        "outputId": "3d01a645-c36e-4469-95e5-21545a502551"
      },
      "outputs": [
        {
          "output_type": "stream",
          "name": "stdout",
          "text": [
            "<class 'int'>\n",
            "<class 'float'>\n",
            "<class 'str'>\n",
            "<class 'str'>\n",
            "<class 'list'>\n"
          ]
        }
      ],
      "source": [
        "print(type(3))\n",
        "print(type(3.0))\n",
        "print(type('3'))\n",
        "print(type('3.0'))\n",
        "\n",
        "myList = [3,3.0,'3','3.0']\n",
        "print(type(myList))"
      ]
    },
    {
      "cell_type": "markdown",
      "id": "2dda7b13-5322-4cb2-9984-7707075fb87f",
      "metadata": {
        "tags": [],
        "id": "2dda7b13-5322-4cb2-9984-7707075fb87f"
      },
      "source": [
        "What are the different types?  Here is a simple table, we will expand on this later.\n",
        "\n",
        "| Data Type | Python Expressions | Description                   | Example |\n",
        "|-----------|--------------------|-------------------------------|---------|\n",
        "|integer    | int                | A whole numeber               | 143267  |\n",
        "|decimal    | float              | A floating point number       | 3.13159 |\n",
        "|string     | str                | Set of characters in quotes   | \"Hello\" |\n",
        "|boolean    | bool               | anything evaluates true/false | True    |\n",
        "|List       | list               | An ordered list of values     | [1,4,5] |\n",
        "\n",
        "\n",
        "\n",
        "### How do we store values?\n",
        "\n",
        "To be useful we need a way to store values in computer's memory.  To this we need to be able to identify a location in memory.  We could use a memory address but that could get confusing, instead we given the location a name, and identifier.  In programming we call this a variable.  A ***variable*** is the name given to a part of the computers memory, designed to store aprticular data item.  It is called a variable because the value stored may change or vary as the program executes. The values we typed in above are know as literals. A **literal** is a constant whose *name* is the written representaiton of the value.  A ***constant*** is a data item with a name amd a value that will remian the same during the executation of a program.  We will use constants later.\n",
        "\n",
        "To store a value, we create a variable and then assign the value.  To assign  a value we use the equals (**=**) sign."
      ]
    },
    {
      "cell_type": "code",
      "execution_count": null,
      "id": "1a4fdd7b-c2b2-4be3-be60-98fcb3da27d9",
      "metadata": {
        "id": "1a4fdd7b-c2b2-4be3-be60-98fcb3da27d9"
      },
      "outputs": [],
      "source": [
        "x = 0"
      ]
    },
    {
      "cell_type": "markdown",
      "id": "0a2fb99e-a477-4f13-ae2e-510eab3e3d44",
      "metadata": {
        "id": "0a2fb99e-a477-4f13-ae2e-510eab3e3d44"
      },
      "source": [
        "What is the type of a variable?  We can use the type() function to find out.\n",
        "> Notice how we can use a *variable* just like we use a *value* in the above cells"
      ]
    },
    {
      "cell_type": "code",
      "execution_count": null,
      "id": "41ca8219-83d6-4aca-92bf-3835fdaa19fb",
      "metadata": {
        "id": "41ca8219-83d6-4aca-92bf-3835fdaa19fb"
      },
      "outputs": [],
      "source": [
        "x = 0\n",
        "print(type(x))"
      ]
    },
    {
      "cell_type": "markdown",
      "id": "56ca1fd8-bddf-4bd7-af91-6487badc429f",
      "metadata": {
        "id": "56ca1fd8-bddf-4bd7-af91-6487badc429f"
      },
      "source": [
        "We can assigned group items to variables"
      ]
    },
    {
      "cell_type": "code",
      "execution_count": null,
      "id": "237a9327-373d-4224-92cf-8d922aa873a5",
      "metadata": {
        "id": "237a9327-373d-4224-92cf-8d922aa873a5"
      },
      "outputs": [],
      "source": [
        "myList = [3,30,10,13] #that was what was meant when they say group items to variables"
      ]
    },
    {
      "cell_type": "markdown",
      "id": "277f56d4-e52a-411d-8cae-5d0a84abde80",
      "metadata": {
        "id": "277f56d4-e52a-411d-8cae-5d0a84abde80"
      },
      "source": [
        "We can change a varialbe"
      ]
    },
    {
      "cell_type": "code",
      "execution_count": null,
      "id": "0256c9c6-fe19-43e6-8945-bff88804d457",
      "metadata": {
        "colab": {
          "base_uri": "https://localhost:8080/"
        },
        "id": "0256c9c6-fe19-43e6-8945-bff88804d457",
        "outputId": "6edc526c-de00-4d8f-a1a3-f4c703b7f96a"
      },
      "outputs": [
        {
          "output_type": "stream",
          "name": "stdout",
          "text": [
            "10\n"
          ]
        }
      ],
      "source": [
        "x = 10\n",
        "print(x)\n",
        "x = 100\n",
        "print(x)"
      ]
    },
    {
      "cell_type": "markdown",
      "id": "257d6ae7-d4bf-4c75-aae3-800511733978",
      "metadata": {
        "tags": [],
        "id": "257d6ae7-d4bf-4c75-aae3-800511733978"
      },
      "source": [
        "#### Naming rules\n",
        "\n",
        "Variable names must be unique and they are case sensitive.\n",
        "* Only letters, numbers, and the underscore character (_) can be used  ```this.is.not.allowed```\n",
        "* No spaces ```this is not allowed```\n",
        "* No quotes ```“NotAllowed”```\n",
        "* Can’t start with a number ```6notAllowed```\n",
        "* Can't be a keyword  ```import```\n",
        "\n",
        "#### Naming conventions\n",
        "We will learn other naming conventions, but for now\n",
        "* variable names should be meaningfuly (can someone else understand)\n",
        "* seperate words with underscores ```monthly_sales```  (this is called snake_case)\n",
        "\n",
        "\n",
        "\n",
        "# Perform Operations\n",
        "\n",
        "There are six basic computer operations.\n",
        "\n",
        "1. Receive Informaiton.\n",
        "1. Output information.\n",
        "1. Assign a value to a variable. There are three cases where you may assign a value to variable.\n",
        "    * give data an initial value.\n",
        "    * assign a value as a results of some processing\n",
        "    * to keep a piece of information for later use.\n",
        "1. Perform arithmetic.\n",
        "1. Compare two variables and select appropriate action.\n",
        "1. Repeat a group of actions.\n",
        "\n",
        "> When designing an algorithm you need to keep in mind that the set of instruction written will eventually be performed by a computer.  That is your words and phrases in the pseudocode which are in line with computer operations, the translation form pseudocode to specific programming language becomes quite simple.\n",
        "\n",
        "## Receive Information\n",
        "\n",
        "Python has a *input* function that will allow you to enter information form the keyboard."
      ]
    },
    {
      "cell_type": "code",
      "execution_count": null,
      "id": "a92584fc-fa5c-4941-b747-b042849cb114",
      "metadata": {
        "colab": {
          "base_uri": "https://localhost:8080/"
        },
        "id": "a92584fc-fa5c-4941-b747-b042849cb114",
        "outputId": "29a88498-ef9e-4624-b4c8-6bd4d3a89d36"
      },
      "outputs": [
        {
          "output_type": "stream",
          "name": "stdout",
          "text": [
            "Type something data\n",
            "data\n"
          ]
        }
      ],
      "source": [
        "print(input(\"Type something \"))"
      ]
    },
    {
      "cell_type": "markdown",
      "id": "fb98df5c-aaba-47c6-b210-a69c413ed123",
      "metadata": {
        "id": "fb98df5c-aaba-47c6-b210-a69c413ed123"
      },
      "source": [
        "How does *input* work?\n",
        "1. The interpreter see the call to the *input* function, it take the prompt text and displays it for the user\n",
        "2. The interpreter then waits for the user to type in a repsonse, which the user completes by pressing the return key (also called the enter key)\n",
        "3. Finally the text the user types in is passed back to your code.\n",
        "\n",
        "Now, the text isint going to be useful if we cant remember it for later.  To do this we store the *return value* to a variable"
      ]
    },
    {
      "cell_type": "code",
      "execution_count": null,
      "id": "5636b5db-1114-40bb-a88f-47874c11890e",
      "metadata": {
        "id": "5636b5db-1114-40bb-a88f-47874c11890e"
      },
      "outputs": [],
      "source": [
        "userInput = input(\"Type something \")\n",
        "print(userInput)"
      ]
    },
    {
      "cell_type": "markdown",
      "id": "25087e0c-c18a-4478-b79a-01fbcefb8bc9",
      "metadata": {
        "id": "25087e0c-c18a-4478-b79a-01fbcefb8bc9"
      },
      "source": [
        "## Output Information\n",
        "\n",
        "Python has a *print* function that can output a message to the screen"
      ]
    },
    {
      "cell_type": "code",
      "execution_count": null,
      "id": "f600bbf8-e6d3-44f3-8301-86952bf50156",
      "metadata": {
        "id": "f600bbf8-e6d3-44f3-8301-86952bf50156"
      },
      "outputs": [],
      "source": [
        "print(\"A message\")"
      ]
    },
    {
      "cell_type": "markdown",
      "id": "5964a396-2596-47ba-b7b9-ca950cc6fa52",
      "metadata": {
        "id": "5964a396-2596-47ba-b7b9-ca950cc6fa52"
      },
      "source": [
        "The interpreter sees the call to the *print* function, it takes the message text and displys it to the user.\n",
        "\n",
        "Can we print variables?"
      ]
    },
    {
      "cell_type": "code",
      "execution_count": null,
      "id": "d09bdd9a-f5f0-426e-baf6-3d20472f19a5",
      "metadata": {
        "id": "d09bdd9a-f5f0-426e-baf6-3d20472f19a5"
      },
      "outputs": [],
      "source": [
        "x = 10\n",
        "print(x)"
      ]
    },
    {
      "cell_type": "markdown",
      "id": "77cb490e-4c83-4073-97b2-0c8ca66f0158",
      "metadata": {
        "id": "77cb490e-4c83-4073-97b2-0c8ca66f0158"
      },
      "source": [
        "As you can see the *print* function will take a **literial** or a **variable**.  We will see later that the *print* function can do more, but this is a good start.\n",
        "\n",
        "## Assign a value to a variable\n",
        "\n",
        "We have seen each of three cases, but I will repeat here for clarity.\n",
        "\n",
        "I have added some *comments* to the code.  Comments are just notes after the **#** marks.  We use comments to explain the purpose of the code.  Comments can be thought of as helpful pseudocode."
      ]
    },
    {
      "cell_type": "code",
      "execution_count": null,
      "id": "9311e0b3-9933-4839-8263-a8c963bcef03",
      "metadata": {
        "colab": {
          "base_uri": "https://localhost:8080/"
        },
        "id": "9311e0b3-9933-4839-8263-a8c963bcef03",
        "outputId": "fa1e16c7-95b0-4a8b-ff89-85d312cd39c3"
      },
      "outputs": [
        {
          "output_type": "stream",
          "name": "stdout",
          "text": [
            "Process resulted in value 10.0\n"
          ]
        }
      ],
      "source": [
        "# example of giving a variable an initial value\n",
        "x = 10\n",
        "y = 100\n",
        "# example of assigning a value as a result of some processing\n",
        "z = y/x\n",
        "\n",
        "# example of using a piece of information later\n",
        "print(\"Process resulted in value \" + str(z))\n"
      ]
    },
    {
      "cell_type": "markdown",
      "id": "7882c412-459a-413f-aed8-44bd52789a47",
      "metadata": {
        "id": "7882c412-459a-413f-aed8-44bd52789a47"
      },
      "source": [
        "## Perform Arithmetic\n",
        "\n",
        "\n",
        "| Operation | Description           | Example       |  Result  |\n",
        "|:---------:|-----------------------|---------------|----------|\n",
        "| ```+```   | Addition              | ```3 + 2.2``` | ```5.2```|\n",
        "| ```-```   | Subtraction           | ```5 - 2```   | ```3```  |\n",
        "| ```*```   | Multiplication        | ```3 * 8```   | ```24``` |\n",
        "| ```**```  | Raise to the power of | ```3 ** 2```  | ```9```  |\n",
        "| ```/```   | Division              | ```5/2```     | ```2.5```|\n",
        "| ```//```  | Integer Division      | ```5/2```     | ```2```  |\n",
        "| ```%```   | Modulo                | ```5%2```     | ```1```  |\n",
        "\n",
        "Use the cell below to try out some of the examples"
      ]
    },
    {
      "cell_type": "code",
      "execution_count": null,
      "id": "4f02a3c4-92df-4b56-9699-8627467a6e14",
      "metadata": {
        "colab": {
          "base_uri": "https://localhost:8080/"
        },
        "id": "4f02a3c4-92df-4b56-9699-8627467a6e14",
        "outputId": "ed290e11-e2bc-43d6-a930-5d7c3f691abd"
      },
      "outputs": [
        {
          "output_type": "stream",
          "name": "stdout",
          "text": [
            "5.2\n",
            "3\n",
            "24\n",
            "9\n",
            "2.5\n",
            "2\n",
            "1\n"
          ]
        }
      ],
      "source": [
        "print(3+2.2)\n",
        "print(5-2)\n",
        "print(3*8)\n",
        "print(3**2)\n",
        "print(5/2)\n",
        "print(5//2)\n",
        "print(5%2)"
      ]
    },
    {
      "cell_type": "markdown",
      "id": "26d55bd3-e43b-4bb4-b0f9-cc3c46152ea0",
      "metadata": {
        "id": "26d55bd3-e43b-4bb4-b0f9-cc3c46152ea0"
      },
      "source": [
        "```3 + 2.2``` is called an expression.  When you evaluate an expression you can store the result into a variable"
      ]
    },
    {
      "cell_type": "code",
      "execution_count": null,
      "id": "b9db7b35-3936-48a4-b3ae-957fc9ac6468",
      "metadata": {
        "colab": {
          "base_uri": "https://localhost:8080/"
        },
        "id": "b9db7b35-3936-48a4-b3ae-957fc9ac6468",
        "outputId": "d41277e9-b315-4eaa-8000-4068a67e98da"
      },
      "outputs": [
        {
          "output_type": "stream",
          "name": "stdout",
          "text": [
            "5.2\n"
          ]
        }
      ],
      "source": [
        "y = 3 + 2.2\n",
        "print(y)"
      ]
    },
    {
      "cell_type": "markdown",
      "id": "37f7414e-0a5f-42ba-9e21-e37ab1e1a27e",
      "metadata": {
        "id": "37f7414e-0a5f-42ba-9e21-e37ab1e1a27e"
      },
      "source": [
        "You can print expresisons"
      ]
    },
    {
      "cell_type": "code",
      "execution_count": null,
      "id": "9bb15522-6a92-40a1-b83e-571081a9b66d",
      "metadata": {
        "colab": {
          "base_uri": "https://localhost:8080/"
        },
        "id": "9bb15522-6a92-40a1-b83e-571081a9b66d",
        "outputId": "7767de02-4d9c-43cd-85bd-de9781484829"
      },
      "outputs": [
        {
          "output_type": "stream",
          "name": "stdout",
          "text": [
            "x + y = 210\n"
          ]
        }
      ],
      "source": [
        "expr = \"x + y\"\n",
        "x = 10\n",
        "y = 200\n",
        "z = eval(expr)\n",
        "print(expr + \" = \" + str(z))\n",
        "\n",
        "#what they meant was\n",
        "print(4 + 10)"
      ]
    },
    {
      "cell_type": "markdown",
      "id": "99c9524a-68a8-41c9-9266-1ce1f07e39ec",
      "metadata": {
        "id": "99c9524a-68a8-41c9-9266-1ce1f07e39ec"
      },
      "source": [
        "Can perform arithmetic with variables"
      ]
    },
    {
      "cell_type": "code",
      "execution_count": null,
      "id": "1b877516-548e-4f00-88c2-d9ce1651d2c0",
      "metadata": {
        "colab": {
          "base_uri": "https://localhost:8080/"
        },
        "id": "1b877516-548e-4f00-88c2-d9ce1651d2c0",
        "outputId": "2148e3a7-0109-4ef4-88c1-13854b847920"
      },
      "outputs": [
        {
          "output_type": "stream",
          "name": "stdout",
          "text": [
            "10.0\n",
            "1000\n",
            "0\n"
          ]
        }
      ],
      "source": [
        "x = 10\n",
        "y = 100\n",
        "print(y/x)\n",
        "print(y*x)\n",
        "print(y%x)"
      ]
    },
    {
      "cell_type": "markdown",
      "id": "07d15980-3e1a-4a0c-8e68-599c09591dda",
      "metadata": {
        "id": "07d15980-3e1a-4a0c-8e68-599c09591dda"
      },
      "source": [
        "Lets sum two number input form the user"
      ]
    },
    {
      "cell_type": "code",
      "execution_count": null,
      "id": "3c090a42-004e-4922-bd72-ed59ff88cb53",
      "metadata": {
        "colab": {
          "base_uri": "https://localhost:8080/"
        },
        "id": "3c090a42-004e-4922-bd72-ed59ff88cb53",
        "outputId": "de7a4a21-253b-43e1-8c7a-e993f5a3b673"
      },
      "outputs": [
        {
          "output_type": "stream",
          "name": "stdout",
          "text": [
            "Enter a number: 10\n",
            "Enter a number: 2\n",
            "The result is 102\n"
          ]
        }
      ],
      "source": [
        "prompt = \"Enter a number: \"\n",
        "x = input(prompt)\n",
        "y = input(prompt)\n",
        "result = x + y\n",
        "print(\"The result is \" + result)"
      ]
    },
    {
      "cell_type": "markdown",
      "id": "9e2da386-c608-408e-9dee-af674c646c06",
      "metadata": {
        "id": "9e2da386-c608-408e-9dee-af674c646c06"
      },
      "source": [
        "What happened?  It didn't add the input, it joined(concatenated) the input.  Lets run the next two cell to investigate."
      ]
    },
    {
      "cell_type": "code",
      "execution_count": null,
      "id": "43dc5d55-891a-4667-888c-63a681ba0a26",
      "metadata": {
        "colab": {
          "base_uri": "https://localhost:8080/"
        },
        "id": "43dc5d55-891a-4667-888c-63a681ba0a26",
        "outputId": "d42af87d-1032-4284-e81e-01eb35e1a5ac"
      },
      "outputs": [
        {
          "output_type": "stream",
          "name": "stdout",
          "text": [
            "3\n",
            "<class 'str'>\n"
          ]
        }
      ],
      "source": [
        "#user input is read as a string so you need to convert it into a integer / number\n",
        "print(type(input()))"
      ]
    },
    {
      "cell_type": "code",
      "execution_count": null,
      "id": "3abe5441-1764-49eb-9f25-ccce75269cdd",
      "metadata": {
        "colab": {
          "base_uri": "https://localhost:8080/"
        },
        "id": "3abe5441-1764-49eb-9f25-ccce75269cdd",
        "outputId": "7e46c0f2-b798-4817-9b5a-bc98d81796ad"
      },
      "outputs": [
        {
          "output_type": "stream",
          "name": "stdout",
          "text": [
            "Enter a number: 12\n",
            "Enter a number: 5\n",
            "The result is 17\n"
          ]
        }
      ],
      "source": [
        "prompt = \"Enter a number: \"\n",
        "\n",
        "x = int(input(prompt))\n",
        "y = int(input(prompt))\n",
        "result = x + y\n",
        "print(\"The result is \" + str(result))"
      ]
    },
    {
      "cell_type": "markdown",
      "id": "2afd9f3d-c0d9-421c-bfe5-f76538b82793",
      "metadata": {
        "id": "2afd9f3d-c0d9-421c-bfe5-f76538b82793"
      },
      "source": [
        "So the data type of the variables were string.  So the *input* function must return a *str* data type.\n",
        "\n",
        "There is a way we can convert, we can use the *int* function.  So \"12\" is a string os the characters '1' followed by the character '2'.  To convert the string we use the int(\"12\"), and this will return the number 12."
      ]
    },
    {
      "cell_type": "code",
      "execution_count": null,
      "id": "c3e8c802-0638-4b59-9067-24fbb94acca6",
      "metadata": {
        "id": "c3e8c802-0638-4b59-9067-24fbb94acca6"
      },
      "outputs": [],
      "source": [
        "z = int(\"12\")"
      ]
    },
    {
      "cell_type": "markdown",
      "id": "73a4d763-46da-4c8d-a61c-3acfa8e336b5",
      "metadata": {
        "id": "73a4d763-46da-4c8d-a61c-3acfa8e336b5"
      },
      "source": [
        "## Compare Two Variables\n",
        "\n",
        "Here is a simple program prints out the maximun of two numbers.  This also demonstrates some features of the Python language.\n",
        "\n",
        "> New lines are used to separate logical statements (similar to a period at the end of a sentence).\n",
        ">\n",
        "> Whitespaces (spaces and tabs) are used to indicate which statements should be grouped together (called blocks)\n",
        ">\n",
        "> Colons (:) are used to indicate the continuation of an idea at a deeper level.\n",
        "\n",
        "Try changing the numbers, and rerun the cell.  What happens if you swap *>* for *<*?   What is *<*? We use a *relational operator* to ask a True/False question about the realtionship between two variables.  The followinf table show the relational operators used in Python.\n",
        "\n",
        "\n",
        "| Operation | Description            | Example           |  Result     |\n",
        "|:---------:|------------------------|-------------------|-------------|\n",
        "| ```<```   | Less than              | ```3 < 2```       | ```False``` |\n",
        "| ```>```   | Greater than           | ```3 > 2```       | ```True```  |\n",
        "| ```<=```  | Less than or equal     | ```3 <= 2```      | ```False``` |\n",
        "| ```>=```  | greater than or equal  | ```3 >= 2```      | ```True```  |\n",
        "| ```==```  | equal to               | ```3 == 2```      | ```False``` |\n",
        "| ```!=```  | not equal to           | ```3 != 2```      | ```True```  |\n",
        "| ```not``` | not                    | ```not(3 == 2)``` | ```True```  |"
      ]
    },
    {
      "cell_type": "code",
      "execution_count": null,
      "id": "b51f5001-2df5-42d1-99e8-850a4994048a",
      "metadata": {
        "colab": {
          "base_uri": "https://localhost:8080/"
        },
        "id": "b51f5001-2df5-42d1-99e8-850a4994048a",
        "outputId": "2f9f4ed1-7ff4-4a38-b34b-c79c5be6b7ba"
      },
      "outputs": [
        {
          "output_type": "stream",
          "name": "stdout",
          "text": [
            "3<2 resulted in False\n",
            "3>2 resulted in True\n",
            "3<=2 resulted in False\n",
            "3>=2 resulted in True\n",
            "3==2 resulted in False\n",
            "3!=2 resulted in True\n",
            "not(3==2) resulted in True\n"
          ]
        }
      ],
      "source": [
        "expressionList = ('3<2','3>2','3<=2','3>=2','3==2','3!=2','not(3==2)')\n",
        "for expr in expressionList:\n",
        "  print(expr + \" resulted in \" + str(eval(expr)))"
      ]
    },
    {
      "cell_type": "markdown",
      "id": "3f2fd3f9-31d2-49a1-84bc-9b71fe393a77",
      "metadata": {
        "id": "3f2fd3f9-31d2-49a1-84bc-9b71fe393a77"
      },
      "source": [
        "Notice the keyword are highlighted in a different colour.  This example uses a boolean expresison: ```first_number > second_number```.  A boolean expression is an *epxression* the evaluates to *True* or *False*.  The expresiosn uses a *relational operator*.  \n",
        "\n",
        " Can you write a version that prompts the user for the numbers?  What happens if you enter in the same number?"
      ]
    },
    {
      "cell_type": "code",
      "execution_count": null,
      "id": "137a88a9-e2eb-4ace-b1cc-b7fdf260941e",
      "metadata": {
        "colab": {
          "base_uri": "https://localhost:8080/"
        },
        "id": "137a88a9-e2eb-4ace-b1cc-b7fdf260941e",
        "outputId": "428965b3-63ba-408e-869a-ddec1d11b683"
      },
      "outputs": [
        {
          "output_type": "stream",
          "name": "stdout",
          "text": [
            "Enter a number: 20\n",
            "Enter a number: 20\n",
            "20 is less than 20\n"
          ]
        }
      ],
      "source": [
        "prompt = \"Enter a number: \"\n",
        "x = int(input(prompt))\n",
        "y = int(input(prompt))\n",
        "\n",
        "if(x > y):\n",
        "  print(str(x) + \" is greater than \" + str(y))\n",
        "\n",
        "else:\n",
        "  print(str(x) + \" is less than \" + str(y))\n",
        "  #the code does not work as intended as it says value x is less than y when they are identical"
      ]
    },
    {
      "cell_type": "code",
      "execution_count": null,
      "id": "7eb27a8b-f622-456b-9a87-bd9a3073ec30",
      "metadata": {
        "colab": {
          "base_uri": "https://localhost:8080/"
        },
        "id": "7eb27a8b-f622-456b-9a87-bd9a3073ec30",
        "outputId": "ab386e34-14e5-41dd-9747-167b3490191e"
      },
      "outputs": [
        {
          "output_type": "stream",
          "name": "stdout",
          "text": [
            "Enter a number: 20\n",
            "Enter a number: 5\n",
            "20 is bigger than 5\n"
          ]
        }
      ],
      "source": [
        "#same number example\n",
        "prompt = \"Enter a number: \"\n",
        "x = int(input(prompt))\n",
        "y = int(input(prompt))\n",
        "\n",
        "if(x > y):\n",
        "  print(str(x) + \" is greater than \" + str(y))\n",
        "\n",
        "#there are better solutions but this deals with the edge case of matching numbers\n",
        "elif(x == y):\n",
        "   print(\"Both values are equal\")\n",
        "else:\n",
        "  print(str(x) + \" is less than \" + str(y))\n",
        "\n",
        "  #when coding the choice needs to be made in regards to what the numbers being equal means (is it bad, good, does not matter, etc)"
      ]
    },
    {
      "cell_type": "markdown",
      "id": "54c8ec64-39d6-4e96-afb1-d36615f738bb",
      "metadata": {
        "id": "54c8ec64-39d6-4e96-afb1-d36615f738bb"
      },
      "source": [
        "#### Repeat a group of actions\n",
        "\n",
        "Lets say I want to print out a countdown.  I could do a print statement for each."
      ]
    },
    {
      "cell_type": "code",
      "execution_count": null,
      "id": "9e953c23-894f-48e8-a2ed-981e5e698af2",
      "metadata": {
        "id": "9e953c23-894f-48e8-a2ed-981e5e698af2"
      },
      "outputs": [],
      "source": [
        "print(10)\n",
        "print(9)\n",
        "print(8)\n",
        "print(7)\n",
        "print(6)\n",
        "print(5)\n",
        "print(4)\n",
        "print(3)\n",
        "print(2)\n",
        "print(1)\n",
        "print(\"Blast Off!\")"
      ]
    },
    {
      "cell_type": "markdown",
      "id": "eda408c4-53ac-4250-8982-4b96f62e75d8",
      "metadata": {
        "id": "eda408c4-53ac-4250-8982-4b96f62e75d8"
      },
      "source": [
        "Notice that each line is very similar, a print statement, and just printing out a different number.\n",
        "\n",
        "It turns out, repeating something is very common in programming and all languages provide way to do this easier.  In Python we can use the *for* loop. We will use a list of numbers.  Recall in Python a *list* is ordered.   There are other way to do this, but this notebook is to just give us a understanding.  We will explore loops in more detail in later notebooks."
      ]
    },
    {
      "cell_type": "code",
      "execution_count": null,
      "id": "ca532d99-2994-46f4-a3a8-64506790c51a",
      "metadata": {
        "colab": {
          "base_uri": "https://localhost:8080/"
        },
        "id": "ca532d99-2994-46f4-a3a8-64506790c51a",
        "outputId": "bbf68c65-4faa-4bdc-818c-59993fdfa677"
      },
      "outputs": [
        {
          "output_type": "stream",
          "name": "stdout",
          "text": [
            "Starting countdown\n",
            "10\n",
            "9\n",
            "8\n",
            "7\n",
            "6\n",
            "5\n",
            "4\n",
            "3\n",
            "2\n",
            "1\n",
            "Blast Off!\n"
          ]
        }
      ],
      "source": [
        "for i in range(10,0,-1): # for loop that count downs from 10 to 1\n",
        "  print(i)\n",
        "\n",
        "print(\"Blast Off!\")"
      ]
    }
  ],
  "metadata": {
    "kernelspec": {
      "display_name": "Python 3 (ipykernel)",
      "language": "python",
      "name": "python3"
    },
    "language_info": {
      "codemirror_mode": {
        "name": "ipython",
        "version": 3
      },
      "file_extension": ".py",
      "mimetype": "text/x-python",
      "name": "python",
      "nbconvert_exporter": "python",
      "pygments_lexer": "ipython3",
      "version": "3.9.6"
    },
    "colab": {
      "provenance": []
    }
  },
  "nbformat": 4,
  "nbformat_minor": 5
}